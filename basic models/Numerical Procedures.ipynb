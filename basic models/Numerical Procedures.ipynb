{
 "cells": [
  {
   "cell_type": "code",
   "execution_count": 2,
   "metadata": {},
   "outputs": [],
   "source": [
    "from stockOption import StockOption\n",
    "from binomialEuropeanOption import BinomialEuropeanOption\n",
    "\n",
    "eu_option = BinomialEuropeanOption(50,50,.05,.5,2,{\"pu\":.2,\"pd\":.2,\"is_call\":False})"
   ]
  },
  {
   "cell_type": "code",
   "execution_count": 3,
   "metadata": {},
   "outputs": [
    {
     "name": "stdout",
     "output_type": "stream",
     "text": [
      "4.82565175125599\n"
     ]
    }
   ],
   "source": [
    "print(eu_option.price())"
   ]
  },
  {
   "cell_type": "code",
   "execution_count": 4,
   "metadata": {},
   "outputs": [
    {
     "name": "stdout",
     "output_type": "stream",
     "text": [
      "5.113060082823486\n"
     ]
    }
   ],
   "source": [
    "from BinomialAmericanOption import BinomialTreeOption\n",
    "\n",
    "am_option = BinomialTreeOption(50,50,.05,.5,2,{\"pu\":.2,\"pd\":.2,\"is_call\":False, \"is_eu\": False})\n",
    "print(am_option.price())\n",
    "\n",
    "#exercising the American option today, before expiration at the strike price than at the future time costs more"
   ]
  },
  {
   "cell_type": "code",
   "execution_count": 5,
   "metadata": {},
   "outputs": [
    {
     "name": "stdout",
     "output_type": "stream",
     "text": [
      "euro put:  3.1051473412967003\n"
     ]
    }
   ],
   "source": [
    "from binomialCRROption import BinomialCRROption\n",
    "#valuation of a put of a non-dividend paying stock w strike of 50, current price of 50, \n",
    "#volailty of 30%, risk-free rate of 5% annually, & TTM .5 years\n",
    "eu_option = BinomialCRROption(50,50,.05,.5,2,{\"sigma\":.3,\"is_call\":False})\n",
    "print(\"euro put: \", eu_option.price())"
   ]
  },
  {
   "cell_type": "code",
   "execution_count": 6,
   "metadata": {},
   "outputs": [
    {
     "name": "stdout",
     "output_type": "stream",
     "text": [
      "american put:  3.4091814964048277\n"
     ]
    }
   ],
   "source": [
    "#same as above but with an americna put option\n",
    "am_option = BinomialCRROption(50,50,.05,.5,2,{\"sigma\":.3,\"is_call\":False, \"is_eu\": False})\n",
    "print(\"american put: \", am_option.price())"
   ]
  },
  {
   "cell_type": "code",
   "execution_count": 7,
   "metadata": {},
   "outputs": [
    {
     "name": "stdout",
     "output_type": "stream",
     "text": [
      "euro put:  3.5674299991832887\n"
     ]
    }
   ],
   "source": [
    "from binomialLROption import BinomialLROption as blo\n",
    "#added an extra time step(changed 2 to 3)\n",
    "eu_option = blo(50,50,.05,.5,3,{\"sigma\":.3,\"is_call\":False})\n",
    "print(\"euro put: \", eu_option.price())"
   ]
  },
  {
   "cell_type": "code",
   "execution_count": 8,
   "metadata": {},
   "outputs": [
    {
     "name": "stdout",
     "output_type": "stream",
     "text": [
      "euro put:  3.668179104133528\n"
     ]
    }
   ],
   "source": [
    "am_option = blo(50,50,.05,.5,3,{\"sigma\":.3,\"is_call\":False, \"is_eu\": False})\n",
    "print(\"euro put: \", am_option.price())"
   ]
  },
  {
   "cell_type": "code",
   "execution_count": 9,
   "metadata": {},
   "outputs": [
    {
     "name": "stdout",
     "output_type": "stream",
     "text": [
      "eu_call:  (4.803864657409284, 0.5888015221823649, 0.036736782388357196)\n"
     ]
    }
   ],
   "source": [
    "from binomialLRGreeks import BinomialLRGreeks as blg\n",
    "eu_call = blg(50,50,.05,.5,300,{\"sigma\":.3,\"is_call\":True, \"is_eu\": True})\n",
    "print('eu_call: ', eu_call.price())\n"
   ]
  },
  {
   "cell_type": "code",
   "execution_count": 12,
   "metadata": {},
   "outputs": [
    {
     "name": "stdout",
     "output_type": "stream",
     "text": [
      "eu_put:  (3.569360258827997, -0.41119847781760727, 0.03673678238835338)\n"
     ]
    }
   ],
   "source": [
    "eu_put = blg(50,50,.05,.5,300,{\"sigma\":.3,\"is_call\":False, \"is_eu\": True})\n",
    "print('eu_put: ', eu_put.price())"
   ]
  },
  {
   "cell_type": "code",
   "execution_count": 1,
   "metadata": {},
   "outputs": [
    {
     "name": "stdout",
     "output_type": "stream",
     "text": [
      "eu_put:  3.330905491759248\n"
     ]
    }
   ],
   "source": [
    "from TrinomialTreeOption import TrinomialTreeOption\n",
    "eu_put = TrinomialTreeOption(50,50,.05,.5,2,{\"sigma\":.3,\"is_call\":False})\n",
    "print('eu_put: ', eu_put.price())"
   ]
  },
  {
   "cell_type": "code",
   "execution_count": null,
   "metadata": {},
   "outputs": [],
   "source": []
  }
 ],
 "metadata": {
  "kernelspec": {
   "display_name": "Python 3",
   "language": "python",
   "name": "python3"
  },
  "language_info": {
   "codemirror_mode": {
    "name": "ipython",
    "version": 3
   },
   "file_extension": ".py",
   "mimetype": "text/x-python",
   "name": "python",
   "nbconvert_exporter": "python",
   "pygments_lexer": "ipython3",
   "version": "3.7.4"
  }
 },
 "nbformat": 4,
 "nbformat_minor": 2
}
